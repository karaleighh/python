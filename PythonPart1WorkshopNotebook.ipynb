{
  "cells": [
    {
      "cell_type": "markdown",
      "source": [
        "# **A Friendly Introduction to Python for Absolute Beginners: Part 1**\n",
        "\n",
        "Kelly Schultz, Data Visualization Librarian\n",
        "\n",
        "Kara Handren, Data Librarian\n",
        "\n",
        "mdl@library.utoronto.ca \n",
        "\n"
      ],
      "metadata": {
        "id": "u6ie5gLZgEvX"
      }
    },
    {
      "cell_type": "markdown",
      "source": [
        "# **Before we get started...**\n",
        "\n",
        "## https://jupyter.utoronto.ca/  \n",
        "\n",
        "\n",
        "*   Login with your UTORId\n",
        "*   If you haven't done so already, follow the setup instructions to download the workshop files: https://uoft.me/python1setup"
      ],
      "metadata": {
        "id": "_EqIaS5FiRBd"
      }
    },
    {
      "cell_type": "markdown",
      "source": [
        "# **Welcome to our Workshop on Python!** #\n",
        "\n",
        "This is a welcoming environment, for those who are absolute beginners to programming (as we once were)! Please feel free to ask any questions you have during this workshop. Remember, there are no stupid questions, and mistakes and error messages are an important part of learning any new skill. To learn to program, you need to be willing to play and experiment, and we are here to help you build a good foundation to do just that. \n",
        "\n",
        "If you have any questions as we go, please don't hesitate to ask!\n",
        "\n",
        "We will invite participants to share their answers to the exercises in this workshop, but won't be calling on anyone to participate."
      ],
      "metadata": {
        "id": "cZCxp6wckT_4"
      }
    },
    {
      "cell_type": "markdown",
      "source": [
        "## A note on Sources\n",
        "\n",
        "The content in this workshop is based off of several existing, excellent Python tutorials, most significantly those from [Constellate](https://constellate.org/tutorials). You'll note that many of the links in this notebook also direct back to Constellate's documentation. Full credit to Nathan Kelber for developing, and being willing to share, these excellent resources with us!"
      ],
      "metadata": {
        "id": "iBWm-Xhd6fgm"
      }
    },
    {
      "cell_type": "markdown",
      "source": [
        "# **Agenda** #\n",
        "\n",
        "*   #### Learning Objectives\n",
        "*   #### Introduction to Python\n",
        "*   #### Introduction to Jupyter Notebooks\n",
        "*  #### Getting Started with Python\n",
        "*  #### Wrap up and Questions\n",
        "\n",
        "\n",
        "\n",
        "\n",
        "\n",
        "\n",
        "\n",
        "\n",
        "\n",
        "\n"
      ],
      "metadata": {
        "id": "4wiq1Pqngs0Q"
      }
    },
    {
      "cell_type": "markdown",
      "source": [
        "# **Learning Objectives** #\n",
        "\n",
        "Participants will be able to:\n",
        "\n",
        "+ Understand how to use Jupyter Notebooks to run Python code\n",
        "+ Understand the basics of the Python programming language\n",
        "+ Recognize situations that may benefit from using Python\n",
        "+ Know where to find additional resources\n"
      ],
      "metadata": {
        "id": "Ip62B4hViHcT"
      }
    },
    {
      "cell_type": "markdown",
      "source": [
        "# **What is Python?** #\n",
        "\n",
        "Python is a simple programming language originally created in the 1980s. It's a very high-level language, meaning that it's closer to a human than a machine language. This makes it an easy language to learn to read, write and understand. Its ease of use and versatility means that it has become extremely popular over the past two decades, and is now used in everything from software and game development to data mining and finance. A whole community of domain-specific tools have been built on top of Python, but being able to explore them requires a good foundation and understanding of the language itself first!\n",
        "\n",
        "To help get you started with Python, this workshop will provide a hands-on tour of some of Python's essential syntax and semantics. *Syntax* refers to the structure of the language, or the rules that define how humans and machines will write and interpret it (i.e., the grammar), while *semantics* refers to the words and symbols within the syntax (i.e., the meaning). We'll talk about these more, as well as other aspects of the language such as operators, functions and libraries, during this workshop. Our aim is that you will leave with a solid foundation from which to explore further.\n",
        "\n",
        "# **Why should I use Python?** # \n",
        "\n",
        "1.  Automating Repetitive Tasks\n",
        " + Python can be used to automate everyday tasks ranging from renaming files, converting files, checking for duplicates, or even sending batch emails\n",
        "2.   Data Visualization\n",
        " + Python can build a wide range of different data visualizations, including line and bar graphs, pie charts and histograms\n",
        "3.   Data and Text Analysis, and Machine Learning\n",
        " + You can use Python to clean and analyze data, conduct complex statistical calculations, or even build machine learning algorithms\n",
        "\n",
        ".. and much more!\n"
      ],
      "metadata": {
        "id": "TTKkUTCdm7V4"
      }
    },
    {
      "cell_type": "markdown",
      "source": [
        "# **Introduction to Jupyter Notebooks** #\n",
        "\n",
        "There are a number of options for using Python. One of which is [Jupyter Notebooks](https://jupyter.org/). Jupyter notebooks are documents that contain both computer code (like Python) alongside explanatory text, images, figures, videos, and links. Most importantly, the code in a Jupyter notebook can be executed, modified, and deleted, all within the notebook. This workshop is in fact, your first notebook!\n",
        "\n",
        "[JupyterHub](https://jupyter.utoronto.ca/hub/login?next=%2Fhub%2F) is an instance of Notebooks hosted at the University of Toronto. This means there is no installation or maintenance tasks for you - the environment is updated and managed by UofT's system administrators, and comes pre-configured with everything we'll need today. You can log in to JupyterHub using your UTORId.\n",
        "\n",
        "**Python code can also be run in other ways**, such as using the Python Interpreter with your Terminal or via command line, using an Integrated Development Environment (IDE) like PyCharm, or even in a text/code editor such as Sublime! Python code can be run either line by line, or in packaged scripts that contain multiple lines of code. You can [read more](https://realpython.com/run-python-scripts/) about running Python code in various ways."
      ],
      "metadata": {
        "id": "BkPNTQrwuPDV"
      }
    },
    {
      "cell_type": "markdown",
      "metadata": {
        "id": "6tl-ktHCMOS7"
      },
      "source": [
        "## Getting Started with JupyterHub\n",
        "\n",
        "### Cells\n",
        "\n",
        "Similar to the way an essay is composed of paragraphs, Jupyter notebooks are composed of [cells](https://jupyter-notebook.readthedocs.io/en/stable/notebook.html#structure-of-a-notebook-document). A [cell](https://jupyter-notebook.readthedocs.io/en/stable/notebook.html#structure-of-a-notebook-document) is like a container for a particular kind of content. There are essentially two kinds of content in Jupyter notebooks:\n",
        "\n",
        "1. [Markdown Cells](https://jupyter-notebook.readthedocs.io/en/stable/notebook.html#markdown-cells) - These can contain text, images, video, and other kinds of explanatory content you might find on a regular website. This cell is a markdown cell.\n",
        "2. [Code Cells](https://jupyter-notebook.readthedocs.io/en/stable/notebook.html#code-cells) - These can contain code written in a variety of languages.\n",
        "\n",
        "A [code cell](https://jupyter-notebook.readthedocs.io/en/stable/notebook.html#code-cells) can be distinguished from a [markdown cell](https://jupyter-notebook.readthedocs.io/en/stable/notebook.html#markdown-cells) by the fact that it contains a pair of brackets with a colon to its left, like so ``[ ]:``"
      ]
    },
    {
      "cell_type": "code",
      "execution_count": null,
      "metadata": {
        "id": "tzkNRIT7MOS8"
      },
      "outputs": [],
      "source": [
        "# This is a code cell "
      ]
    },
    {
      "cell_type": "markdown",
      "metadata": {
        "id": "KPyPFpN5MOS9"
      },
      "source": [
        "A [markdown cell](https://jupyter-notebook.readthedocs.io/en/stable/notebook.html#markdown-cells) provides information, but a [code cell](https://jupyter-notebook.readthedocs.io/en/stable/notebook.html#code-cells) can be executed to perform an action. "
      ]
    },
    {
      "cell_type": "markdown",
      "source": [
        "## Hello World: Your First Code\n",
        "\n",
        "It is traditional in programming education to begin with a program that prints ``Hello World``. To do this, we use a function. A function is just a ready made task that you can use - Python comes with a lot of these, including print(). This function simply prints out whatever value is inside the parentheses (). \n",
        "\n",
        "We will pass the quotation \"Hello World\" to the print function like so:\n",
        "\n",
        "```print(\"Hello World\")```\n",
        "\n",
        "You will be writing this code into the following [code cell](https://jupyter-notebook.readthedocs.io/en/stable/notebook.html#code-cells) below. To execute our code, we have a couple options:\n",
        "\n",
        "#### Option One\n",
        "\n",
        "![Image of play button](https://ithaka-labs.s3.amazonaws.com/static-files/images/tdm/tdmdocs/play_button.png) \n",
        "Click the code cell you wish to run and then push the \"Run\" button above. \n",
        "#### Option Two\n",
        "\n",
        "Click the [code cell](https://jupyter-notebook.readthedocs.io/en/stable/notebook.html#code-cells) you wish to run and press **Ctrl + Enter** (Windows) / **Return** (Mac) on your keyboard.\n",
        "\n",
        "Type ```print(\"Hello World\")``` into the box below and then run the cell."
      ],
      "metadata": {
        "id": "Hp-UGmJ2c1J4"
      }
    },
    {
      "cell_type": "code",
      "source": [
        "print(\"Hello World\")"
      ],
      "metadata": {
        "id": "1ZGf-JLtdXfp"
      },
      "execution_count": null,
      "outputs": []
    },
    {
      "cell_type": "markdown",
      "source": [
        "After your code finishes running, a number will appear in the pair of brackets `[ ]:` to the left of the code cell to show the order the cell was run in. If your code takes some time to execute, an asterisk * will be displayed in the pair of brackets `[*]:` while the code executes. \n",
        "\n",
        "Execute the code cell below which:\n",
        "\n",
        "1. Prints \"Waiting 5 seconds...\"\n",
        "2. Waits 5 seconds\n",
        "3. Prints \"Done\"\n",
        "\n",
        "(Don't worry if you don't understand each line of this code, it isn't important for this example!)\n",
        "\n",
        "As the program is running, watch the pair of brackets and you will see the code is running `[*]:`."
      ],
      "metadata": {
        "id": "epljGOs2dlj3"
      }
    },
    {
      "cell_type": "code",
      "source": [
        "print('Waiting 5 seconds...')\n",
        "import time\n",
        "time.sleep(5)\n",
        "print('Done')"
      ],
      "metadata": {
        "id": "f9baFslfd-8Q"
      },
      "execution_count": null,
      "outputs": []
    },
    {
      "cell_type": "markdown",
      "source": [
        "If you missed the asterisk, you can run the code cell as many times as you like. Notice that each time you run a [code cell](https://jupyter-notebook.readthedocs.io/en/stable/notebook.html#code-cells) the number increases in the pair of brackets `[ ]:`. This keeps track of the order cells were run. While we will always run code in order from top to bottom, keep in mind that [code cells](https://jupyter-notebook.readthedocs.io/en/stable/notebook.html#code-cells) can be run in any order. If you run a [code cell](https://jupyter-notebook.readthedocs.io/en/stable/notebook.html#code-cells) at the bottom of a notebook that depends on a [code cell](https://jupyter-notebook.readthedocs.io/en/stable/notebook.html#code-cells) at the top that hasn't been run yet, you will probably get an error. When you get an error, it's a good idea to check if you missed a [code cell](https://jupyter-notebook.readthedocs.io/en/stable/notebook.html#code-cells) earlier that needed to be run first."
      ],
      "metadata": {
        "id": "13tN5L9zd6dp"
      }
    },
    {
      "cell_type": "markdown",
      "source": [
        "# **Getting Started with Python** \n"
      ],
      "metadata": {
        "id": "6uhsjsh9fTX-"
      }
    },
    {
      "cell_type": "markdown",
      "source": [
        "## **Syntax** \n",
        "\n",
        "Before we get started, let's talk a bit about *Syntax*. *Syntax* refers to the structure of the language, or the rules that define how humans and machines will write and interpret it (i.e., the grammar).  In order to read or write Python, and to help troubleshoot errors, there are some important aspects of *Syntax* to understand that we'll be going through in our examples below.\n",
        "\n",
        "*Syntax* is extremely important because **computers are dumb!** A computer is literal: it will do exactly what you tell it to do extremely quickly, but what you tell it to do won't always be what you want it to do. Any incoherence in the instructions, (a missing comma or an extra space), and all you are left with is a very expensive paperweight. \n",
        "\n",
        "\n",
        "\n",
        "\n",
        "\n"
      ],
      "metadata": {
        "id": "L0KValjlr4XT"
      }
    },
    {
      "cell_type": "markdown",
      "source": [
        "### Comments\n",
        "\n",
        "Comments are one example of Syntax in Python. \n",
        "\n",
        "In Python, any time a line is prefaced by a ``#`` that line is a [comment](https://www.w3schools.com/python/python_comments.asp) and will not be executed if the code is run. In a [code cell](https://jupyter-notebook.readthedocs.io/en/stable/notebook.html#code-cells), comments are also blueish-green in color. This means that anything on the line following the pound sign is ignored when you run your code.\n",
        "\n",
        "Comments are a great way to keep notes to yourself and others on what your code is doing. Just be sure to remembers the ``#``, otherwise the computer will try to read your comment as code!\n"
      ],
      "metadata": {
        "id": "BuToCjGEcP7W"
      }
    },
    {
      "cell_type": "code",
      "source": [
        "# This is a comment!"
      ],
      "metadata": {
        "id": "xpHE9-Psug64"
      },
      "execution_count": null,
      "outputs": []
    },
    {
      "cell_type": "code",
      "source": [
        "This is not a comment"
      ],
      "metadata": {
        "id": "dbwacAMJ8uTs"
      },
      "execution_count": null,
      "outputs": []
    },
    {
      "cell_type": "markdown",
      "source": [
        "# **Expressions and Operators** \n",
        "\n",
        "The simplest form of Python programming is an [expression](https://constellate.org/docs/key-terms/#expression) using an [operator](https://constellate.org/docs/key-terms/#operator). An [expression](https://constellate.org/docs/key-terms/#expression) is a simple mathematical statement like:\n",
        "\n",
        "> 1 + 1\n",
        "\n",
        "The [operator](https://constellate.org/docs/key-terms/#operator) in this case is `+`, sometimes called \"plus\" or \"addition\". Try this operation in the code box below. Remember to click the \"Run\" button or press Ctrl + Enter / Return on your keyboard to run the code."
      ],
      "metadata": {
        "id": "1c042A8gLZ5r"
      }
    },
    {
      "cell_type": "code",
      "source": [
        "# Let's type the expression 1 + 1 in this code block. Then run it.\n",
        "\n"
      ],
      "metadata": {
        "id": "9OOS0zlyLfBj"
      },
      "execution_count": null,
      "outputs": []
    },
    {
      "cell_type": "markdown",
      "source": [
        "Python can handle a large variety of [expressions](https://constellate.org/docs/key-terms/#expression). Python can evaluate parentheses and exponents, as well as a number of additional [operators](https://constellate.org/docs/key-terms/#operator) you may not have learned in grade school. Here are the main [operators](https://constellate.org/docs/key-terms/#operator) that you might use, presented in the order they are evaluated:\n",
        "\n",
        "| Operator| Operation| Example | Evaluation |\n",
        "|---|----|---|---|\n",
        "|\\*\\*| Exponent/Power| 3 ** 3 | 27 |\n",
        "|%| Modulus/Remainder| 34 % 6 | 4 |\n",
        "|/| Division | 30 / 6 | 5|\n",
        "|\\*| Multiplication | 7 * 8 | 56 |\n",
        "|-| Subtraction | 18 - 4| 14|\n",
        "|+| Addition | 4 + 3 | 7 |\n",
        "\n",
        "Note that while you may have used an \"×\" to represent multiplication in grade school, Python uses an asterisk (*). \n",
        "\n",
        "> 2 x 2\n",
        " \n",
        "is represented as\n",
        "\n",
        "> 2 * 2\n",
        "\n"
      ],
      "metadata": {
        "id": "rE-KqRHGL1IE"
      }
    },
    {
      "cell_type": "markdown",
      "source": [
        "### Mini Activity Break"
      ],
      "metadata": {
        "id": "Cxh9tz3uX64M"
      }
    },
    {
      "cell_type": "code",
      "source": [
        "# Try a multiplication or a division\n",
        "\n"
      ],
      "metadata": {
        "id": "FKANyg0ZM6YV"
      },
      "execution_count": null,
      "outputs": []
    },
    {
      "cell_type": "code",
      "source": [
        "# Try an expression where you use multiple operators - what happens when you combine them?\n",
        "\n"
      ],
      "metadata": {
        "id": "uk4yRgUsYAsd"
      },
      "execution_count": null,
      "outputs": []
    },
    {
      "cell_type": "markdown",
      "source": [
        "When you run, or **evaluate**, an [expression](https://constellate.org/docs/key-terms/#expression) in Python, the order of operations is followed. (In grade school, you may remember learning the shorthand \"PEMDAS\".) This means that [expressions](https://constellate.org/docs/key-terms/#expression) are evaluated in this order:\n",
        "\n",
        "1. Parentheses\n",
        "2. Exponents\n",
        "3. Multiplication and Division (from left to right)\n",
        "4. Addition and Subtraction (from left to right)"
      ],
      "metadata": {
        "id": "pST5lFQfNQWF"
      }
    },
    {
      "cell_type": "code",
      "source": [
        "# Let's type an operation where we add in parentheses\n",
        "\n"
      ],
      "metadata": {
        "id": "NzgnGvPcM_Ql"
      },
      "execution_count": null,
      "outputs": []
    },
    {
      "cell_type": "markdown",
      "source": [
        "# **Data Types (Integers, Floats, and Strings)** #\n",
        "\n",
        "All [expressions](https://constellate.org/docs/key-terms/#expression) evaluate to a single value, and every value has a type. In the above examples, our [expressions](https://constellate.org/docs/key-terms/#expression) evaluated to single numerical value. Numerical values come in two basic forms:\n",
        "\n",
        "* [integer](https://constellate.org/docs/key-terms/#integer)\n",
        "* [float](https://constellate.org/docs/key-terms/#float) (or floating-point number)\n",
        "\n",
        "An [integer](https://constellate.org/docs/key-terms/#integer), what we sometimes call a \"whole number\", is a number without a decimal point that can be positive or negative. When a value uses a decimal, it is called a [float](https://constellate.org/docs/key-terms/#float) or floating-point number. Two numbers that are mathematically equivalent could be in two different data types. For example, mathematically 5 is equal to 5.0, yet the former is an [integer](https://constellate.org/docs/key-terms/#integer) while the latter is a [float](https://constellate.org/docs/key-terms/#float).\n",
        "\n",
        "Of course, Python can also help us manipulate text. A snippet of text in Python is called a [string](https://constellate.org/docs/key-terms/#string). A [string](https://constellate.org/docs/key-terms/#string) can be written with single or double quotes as long as these match. A [string](https://constellate.org/docs/key-terms/#string) can use letters, spaces, line breaks, and numbers. So 5 is an [integer](https://constellate.org/docs/key-terms/#integer), 5.0 is a [float](https://constellate.org/docs/key-terms/#float), but '5' and '5.0' are [strings](https://constellate.org/docs/key-terms/#string). A [string](https://constellate.org/docs/key-terms/#string) can also be blank, such as ''.\n",
        "\n",
        "|Familiar Name | Programming name | Examples |\n",
        "|---|---|---|\n",
        "|Whole number|integer| -3, 0, 2, 534|\n",
        "|Decimal|float | 6.3, -19.23, 5.0, 0.01|\n",
        "|Text|string| 'Hello world', '17 cakes', ' ', '1823'|\n",
        "\n",
        "The distinction between each of these data types may seem unimportant, but Python treats each one differently. The data type will determine what the program can do to it. For example, we can ask Python whether an [integer](https://constellate.org/docs/key-terms/#integer) is equal to a [float](https://constellate.org/docs/key-terms/#float), but we cannot ask whether a [string](https://constellate.org/docs/key-terms/#string) is equal to an [integer](https://constellate.org/docs/key-terms/#integer) or a [float](https://constellate.org/docs/key-terms/#float).\n",
        "\n",
        "To evaluate whether two values are equal, we can use two equals signs between them. This is called a comparison operator. The expression will evaluate to either `True` or `False`."
      ],
      "metadata": {
        "id": "QtkiqIQSLErz"
      }
    },
    {
      "cell_type": "code",
      "source": [
        "# Let's run this code cell to determine whether the values are equal. \n",
        "42 == 42.0"
      ],
      "metadata": {
        "id": "mARbjqmVFktB"
      },
      "execution_count": null,
      "outputs": []
    },
    {
      "cell_type": "code",
      "source": [
        "# Let's run this code cell to compare an integer with a string\n",
        "15 == 'fifteen'"
      ],
      "metadata": {
        "id": "oE5ZiKRIG8Ee"
      },
      "execution_count": null,
      "outputs": []
    },
    {
      "cell_type": "code",
      "source": [
        "# Let's run this code cell. Why do we get this result?\n",
        "15 == '15'"
      ],
      "metadata": {
        "id": "ycXtylB8HNzF"
      },
      "execution_count": null,
      "outputs": []
    },
    {
      "cell_type": "markdown",
      "source": [
        "## You can also use the + and * operators on strings"
      ],
      "metadata": {
        "id": "b88vTrM5I0A3"
      }
    },
    {
      "cell_type": "markdown",
      "source": [
        "When we use the addition [operator](https://docs.constellate.org/key-terms/#operator) on [integers](https://realpython.com/python-data-types/#integers) or [floats](https://realpython.com/python-data-types/#floating-point-numbers), they are added to create a sum. When we use the addition [operator](https://docs.constellate.org/key-terms/#operator) on [strings](https://realpython.com/python-data-types/#strings), they are combined into a single, longer [string](https://realpython.com/python-data-types/#strings). This is called [concatenation](https://docs.constellate.org/key-terms/#concatenation).\n",
        "\n"
      ],
      "metadata": {
        "id": "5xEQt-ChICFn"
      }
    },
    {
      "cell_type": "code",
      "source": [
        "# Let's concatenate  the strings 'Chocolate' and 'Cake'. What happens?\n",
        "'Chocolate' + 'Cake'"
      ],
      "metadata": {
        "id": "g3ipEkKyIibm"
      },
      "execution_count": null,
      "outputs": []
    },
    {
      "cell_type": "markdown",
      "source": [
        "The [strings](https://docs.constellate.org/key-terms/#string) are combined exactly as they are written. There is no space between the [strings](https://docs.constellate.org/key-terms/#string). If we want to include a space, we need to add the space to the end of 'Chocolate' or the beginning of 'Cake'. We can also concatenate multiple [strings](https://docs.constellate.org/key-terms/#string)."
      ],
      "metadata": {
        "id": "2XIXw3mcJ6Lx"
      }
    },
    {
      "cell_type": "code",
      "source": [
        "# Let's try adding these same strings again, but include a space in the middle\n",
        "'Chocolate ' + 'Cake' "
      ],
      "metadata": {
        "id": "N1klFM2TJ9QZ"
      },
      "execution_count": null,
      "outputs": []
    },
    {
      "cell_type": "markdown",
      "source": [
        "It's important to remember that like when comparing values, when we use addition [operator](https://docs.constellate.org/key-terms/#operator) the values must be all numbers or all [strings](https://docs.constellate.org/key-terms/#string). Combining them will create an error."
      ],
      "metadata": {
        "id": "k6Xwwqy0Ka_a"
      }
    },
    {
      "cell_type": "code",
      "source": [
        "# Let's try adding a string and an integer together\n",
        "'21' + 21"
      ],
      "metadata": {
        "id": "ptOSLiNOKlYx"
      },
      "execution_count": null,
      "outputs": []
    },
    {
      "cell_type": "markdown",
      "source": [
        "Here, we receive the error `can only concatenate str (not \"int\") to str`. [Python](https://docs.constellate.org/key-terms/#python) assumes we would like to join two [strings](https://docs.constellate.org/key-terms/#string) together, but it does not know how to join a [string](https://docs.constellate.org/key-terms/#string) to an [integer](https://docs.constellate.org/key-terms/#integer). Put another way, [Python](https://docs.constellate.org/key-terms/#python) is unsure if we want:\n",
        "\n",
        ">'21' + 21 \n",
        "\n",
        "to become\n",
        ">'2121'\n",
        "\n",
        "or \n",
        ">42"
      ],
      "metadata": {
        "id": "FU8XStxGKPY9"
      }
    },
    {
      "cell_type": "code",
      "source": [
        "# You can let Python know that you'd like it to interpret a particular value as a string or integer\n",
        "# This can be done by using the str() or int() functions before your value\n",
        "int('21') + 21"
      ],
      "metadata": {
        "id": "XI_g9Wf2M7iA"
      },
      "execution_count": null,
      "outputs": []
    },
    {
      "cell_type": "markdown",
      "source": [
        "You can also multiply a [string](https://docs.constellate.org/key-terms/#string) by an [integer](https://docs.constellate.org/key-terms/#integer). The result is simply the [string](https://docs.constellate.org/key-terms/#string) repeated the appropriate number of times."
      ],
      "metadata": {
        "id": "r9gEFoQZIQ04"
      }
    },
    {
      "cell_type": "code",
      "source": [
        "# Let's try multiplying the string 'coffee' by 5\n",
        "'coffee' * 5"
      ],
      "metadata": {
        "id": "L0BWnizBIUcQ"
      },
      "execution_count": null,
      "outputs": []
    },
    {
      "cell_type": "markdown",
      "source": [
        "## Made a Mistake?\n",
        "\n",
        "You may have seen some error messages when trying out these expressions - and that's ok! Mistakes are a normal part of programming even for experts, and are easy to fix.\n",
        "\n",
        "Under the edit menu, there is an option to undo changes. (Alternatively, you can use **command + z** on Mac and **control + z** on Windows.) You can always reload a notebook if it stops working properly or you misplace an important piece of code. Don't worry, you can't break the computer!"
      ],
      "metadata": {
        "id": "Prtr3RLl_eTx"
      }
    },
    {
      "cell_type": "markdown",
      "source": [
        "# **Variables** \n",
        "\n",
        "A [variable](https://docs.constellate.org/key-terms/#variable) is like a container that stores information. There are many kinds of information that can be stored in a [variable](https://docs.constellate.org/key-terms/#variable), including the data types we have already discussed ([integers](https://docs.constellate.org/key-terms/#integer), [floats](https://docs.constellate.org/key-terms/#float), and [string](https://docs.constellate.org/key-terms/#string)). We create (or *initialize*) a [variable](https://docs.constellate.org/key-terms/#variable) with an [assignment statement](https://docs.constellate.org/key-terms/#assignment-statement), which in Python is a single = sign. The [assignment statement](https://docs.constellate.org/key-terms/#assignment-statement) gives the variable its initial value.\n"
      ],
      "metadata": {
        "id": "qcrI3aJHKtLa"
      }
    },
    {
      "cell_type": "code",
      "source": [
        "# Let's create a variable to store our favourite dessert\n",
        "myvariable = 'chocolate cake'"
      ],
      "metadata": {
        "id": "yu8xvf-MNXZL"
      },
      "execution_count": null,
      "outputs": []
    },
    {
      "cell_type": "markdown",
      "source": [
        "There are a few rules around creating variables that are important to remember:\n",
        "\n",
        "\n",
        "*   Variable names can't start with a digit, although they may contain digits\n",
        "*   Variable names can't contain spaces, quotation mark or any other punctuation *except for underscores*\n",
        "\n"
      ],
      "metadata": {
        "id": "f253vmHDNnpn"
      }
    },
    {
      "cell_type": "markdown",
      "source": [
        "### Activity Break"
      ],
      "metadata": {
        "id": "pxQ6mK9mBGd1"
      }
    },
    {
      "cell_type": "code",
      "source": [
        "# Which of these variable names are acceptable? \n",
        "# Comment out the variables that are not allowed in Python and run this cell to check if the assignment statements works. \n",
        "# If you get an error, the variable name is not allowed in Python.\n",
        "$variable = 1\n",
        "a variable = 2\n",
        "a_variable = 3\n",
        "4variable = 4\n",
        "variable5 = 5\n",
        "variable-6 = 6\n",
        "variAble = 7\n",
        "a_3rd_variable = 8\n"
      ],
      "metadata": {
        "id": "7sExSFe0PVh-"
      },
      "execution_count": null,
      "outputs": []
    },
    {
      "cell_type": "markdown",
      "source": [
        "When programming, it's also helpful to use meaningful words for variables that describe the type of data that you are using the variable for! This will make your code more readable, both to you and to others.\n"
      ],
      "metadata": {
        "id": "pTc8ioGuUXWE"
      }
    },
    {
      "cell_type": "markdown",
      "source": [
        "**How could we improve the variable name (myvariable) for your favourite dessert above?**"
      ],
      "metadata": {
        "id": "KKEFzWVYb8ch"
      }
    },
    {
      "cell_type": "code",
      "source": [
        "# Let's use an assignment statement with a new variable for our favourite dessert, chocolate cake, that is more descriptive\n",
        "\n"
      ],
      "metadata": {
        "id": "LjvS-pzeO0ct"
      },
      "execution_count": null,
      "outputs": []
    },
    {
      "cell_type": "code",
      "source": [
        "# Print the value of your variable using the print function\n"
      ],
      "metadata": {
        "id": "YlFrKX4oc938"
      },
      "execution_count": null,
      "outputs": []
    },
    {
      "cell_type": "markdown",
      "source": [
        "Variables change value when something new is assigned to them. So you can simply use another assignment statement to overwrite an existing variable"
      ],
      "metadata": {
        "id": "cCwi2pZbct-J"
      }
    },
    {
      "cell_type": "code",
      "source": [
        "# Let's overwrite the value of your favourite dessert variable to set this to 'vanilla ice cream'\n",
        "# Print the value of your variable \n"
      ],
      "metadata": {
        "id": "VEX6y9gQPA_e"
      },
      "execution_count": null,
      "outputs": []
    },
    {
      "cell_type": "markdown",
      "source": [
        "### Case Sensitive\n",
        "\n",
        "Python is a case sensitive language. This means that it considers upper and lower case letters to be distinct (x is not the same as X). You may get an error if the correct case is not used!"
      ],
      "metadata": {
        "id": "tHP7U60gHDzA"
      }
    },
    {
      "cell_type": "code",
      "source": [
        "# Ask Python to print your favdessert variable again, but this time capitalize at least one letter in your variable name.\n",
        "# When you run this code, what do you think Python will tell us? Why?\n"
      ],
      "metadata": {
        "id": "rKTzNUbYHaCC"
      },
      "execution_count": null,
      "outputs": []
    },
    {
      "cell_type": "markdown",
      "source": [
        "# **Compound Data Types**\n",
        "\n",
        "We've already learned about three built-in data types: [integers](https://docs.constellate.org/key-terms/#integer), [floats](https://docs.constellate.org/key-terms/#float), and [strings](https://docs.constellate.org/key-terms/#string). In addition to these, Python has several built-in compound data types, including [lists](https://docs.constellate.org/key-terms/#list). [Lists](https://docs.constellate.org/key-terms/#list) act as containers for other data types - they let us store many values inside a single [variable](https://docs.constellate.org/key-terms/#variable). This is helpful for a few reasons.\n",
        "\n",
        "* We can store many items in a single [list](https://docs.constellate.org/key-terms/#list) making it easier to keep the data together\n",
        "* [Lists](https://docs.constellate.org/key-terms/#list) only require a single [assignment state](https://docs.constellate.org/key-terms/#assignment-statement)\n",
        "* [Lists](https://docs.constellate.org/key-terms/#list) have additional capabilities that will make organizing our data easier\n"
      ],
      "metadata": {
        "id": "kHwEkpODYgqX"
      }
    },
    {
      "cell_type": "markdown",
      "source": [
        "## **Lists**\n",
        "\n",
        "A [list](https://docs.constellate.org/key-terms/#list) can store anywhere from zero to millions of items. The items that can be stored in a [list](https://docs.constellate.org/key-terms/#list) include the data types we have already learned: [integers](https://docs.constellate.org/key-terms/#integer), [floats](https://docs.constellate.org/key-terms/#float), and [strings](https://docs.constellate.org/key-terms/#string). A [list](https://docs.constellate.org/key-terms/#list) [assignment state](https://docs.constellate.org/key-terms/#assignment-statement) takes the form.\n",
        "`my_list = [item1, item2, item3, item4...]`"
      ],
      "metadata": {
        "id": "f2xu5jzNZ-si"
      }
    },
    {
      "cell_type": "code",
      "source": [
        "# A list containing integers\n",
        "my_favorite_numbers = [7, 21, 100, 512]\n",
        "print(my_favorite_numbers)"
      ],
      "metadata": {
        "id": "9dP5TPY6aI3a"
      },
      "execution_count": null,
      "outputs": []
    },
    {
      "cell_type": "code",
      "source": [
        "# A list containing strings\n",
        "my_favorite_tea = ['chai', 'matcha', 'earl grey', 'green', 'english breakfast']\n",
        "print(my_favorite_tea)"
      ],
      "metadata": {
        "id": "EBwiqUF1aLrx"
      },
      "execution_count": null,
      "outputs": []
    },
    {
      "cell_type": "markdown",
      "source": [
        "Each item has an [index number](https://docs.constellate.org/key-terms/#index-number) that depends on their order. The first item is 0, the second item is 1, the third item is 2, etc. In the `my_favorite__tea` list, `'matcha'` is item 1.\n",
        "\n",
        "When we want to retrieve an item in a list, we use an [index number](https://docs.constellate.org/key-terms/#index-number)."
      ],
      "metadata": {
        "id": "FPIQYO7n2mSm"
      }
    },
    {
      "cell_type": "code",
      "source": [
        "# Retrieving an item in a list\n",
        "print(my_favorite_tea[2])"
      ],
      "metadata": {
        "id": "73GHv2Yk3YqN"
      },
      "execution_count": null,
      "outputs": []
    },
    {
      "cell_type": "code",
      "source": [
        "# What if we want to change retrieve 'english breakfast'? What would we need to change the index to?\n",
        "print(my_favorite_tea[ ])"
      ],
      "metadata": {
        "id": "hGUWnnZg3fV0"
      },
      "execution_count": null,
      "outputs": []
    },
    {
      "cell_type": "markdown",
      "source": [
        "We can also select items from a [list](https://docs.constellate.org/key-terms/#list) beginning from the end/right side of a [list](https://docs.constellate.org/key-terms/#list) by using negative [index numbers](https://docs.constellate.org/key-terms/#index-number). In this case, the last item on our list would be -1, the second last would be -2 etc."
      ],
      "metadata": {
        "id": "Y4CuI_p635Mw"
      }
    },
    {
      "cell_type": "code",
      "source": [
        "# So we could also retrieve 'english breakfast' from our my_favorite_tea list negative index numbers\n",
        "print(my_favorite_tea[-1])"
      ],
      "metadata": {
        "id": "6LbpJkAJ4H4e"
      },
      "execution_count": null,
      "outputs": []
    },
    {
      "cell_type": "markdown",
      "source": [
        "We can also retrieve a group of consecutive items from a [list](https://docs.constellate.org/key-terms/#list) using [slices](https://docs.constellate.org/key-terms/#slice) instead of a single [index number](https://docs.constellate.org/key-terms/#index-number). We create a [slice](https://docs.constellate.org/key-terms/#slice) by indicating a starting and ending [index number](https://docs.constellate.org/key-terms/#index-number). The [slice](https://docs.constellate.org/key-terms/#slice) is a smaller [list](https://docs.constellate.org/key-terms/#list) containing all the items between our starting and stopping [index number](https://docs.constellate.org/key-terms/#index-number)."
      ],
      "metadata": {
        "id": "LAvWu3tP4iwx"
      }
    },
    {
      "cell_type": "code",
      "source": [
        "# Let's try taking a slice of a list\n",
        "shopping_list = ['Eggs',\n",
        "                'Oats', \n",
        "                'Bananas', \n",
        "                'Flour', \n",
        "                'Baking Soda', \n",
        "                'Milk', \n",
        "                'Chocolate Chips']\n",
        "print(shopping_list [3:5])"
      ],
      "metadata": {
        "id": "uFI8vlfY4l4F"
      },
      "execution_count": null,
      "outputs": []
    },
    {
      "cell_type": "markdown",
      "source": [
        "Notice in our [slice](https://docs.constellate.org/key-terms/#slice) that the second [index](https://docs.constellate.org/key-terms/#index-number) in a [slice](https://docs.constellate.org/key-terms/#slice) is the stopping point. Our return [list](https://docs.constellate.org/key-terms/#list) contains `shopping_list[3]` (`'Flour'`) and `shopping_list[4]` (`'Baking Soda'`), but it does not include `shopping_list[5]` (`'Milk`). This can be confusing if you were expecting three items instead of two. One way to remember this is by subtracting the [indexes](https://docs.constellate.org/key-terms/#index-number) in your head (5 - 3 = 2 items)."
      ],
      "metadata": {
        "id": "6VbR4BRq5VUp"
      }
    },
    {
      "cell_type": "markdown",
      "source": [
        "It is not uncommon for [lists](https://docs.constellate.org/key-terms/#list) to be hundreds or thousands of items long. It would be a chore to count all those items to create a [slice](https://docs.constellate.org/key-terms/#slice). If you want to know the length of a [list](https://docs.constellate.org/key-terms/#list), you can use the `len()` function."
      ],
      "metadata": {
        "id": "Mj-Tt4HXIXM6"
      }
    },
    {
      "cell_type": "code",
      "source": [
        "# Let's use the len() function to discover the number of items in our the list\n",
        "shopping_list = ['Eggs',\n",
        "                'Oats', \n",
        "                'Bananas', \n",
        "                'Flour', \n",
        "                'Baking Soda', \n",
        "                'Milk', \n",
        "                'Chocolate Chips']\n",
        "len(shopping_list)"
      ],
      "metadata": {
        "id": "2ASl8e045pKW"
      },
      "execution_count": null,
      "outputs": []
    },
    {
      "cell_type": "markdown",
      "source": [
        "The `shopping_list` [list](https://docs.constellate.org/key-terms/#list) is 7 items long, meaning the whole [list](https://docs.constellate.org/key-terms/#list) is within the [slice](https://docs.constellate.org/key-terms/#slice) `shopping_list[0:7]`. "
      ],
      "metadata": {
        "id": "CYxytyZX5y0H"
      }
    },
    {
      "cell_type": "markdown",
      "source": [
        "We can also change the value of any item in a [list](https://docs.constellate.org/key-terms/#list) using an [assignment statement](https://docs.constellate.org/key-terms/#assignment-statement) that contains the item's [index number](https://docs.constellate.org/key-terms/#index-number)."
      ],
      "metadata": {
        "id": "gtkZLA4z-MGd"
      }
    },
    {
      "cell_type": "code",
      "source": [
        "# Let's change (swap out) an item in our shopping list using an assignment statement, using an index number\n",
        "shopping_list[1] = 'Cereal'\n",
        "print(shopping_list)"
      ],
      "metadata": {
        "id": "sk_ivypL-ZSL"
      },
      "execution_count": null,
      "outputs": []
    },
    {
      "cell_type": "markdown",
      "source": [
        "### Activity Time"
      ],
      "metadata": {
        "id": "-kkUn19eDVmi"
      }
    },
    {
      "cell_type": "code",
      "source": [
        "# Write an assignment statement to replace 'Milk' in our shopping list with 'Almond Milk'\n",
        "# Print our shopping list to verify your results\n",
        "\n",
        "\n"
      ],
      "metadata": {
        "id": "TwJ6FpmQ-vZl"
      },
      "execution_count": null,
      "outputs": []
    },
    {
      "cell_type": "markdown",
      "source": [
        "## The `in` and `not in` Operators\n",
        "\n",
        "If we have a long [list](https://docs.constellate.org/key-terms/#list), it may be helpful to check whether a value is in the [list](https://docs.constellate.org/key-terms/#list). We can do this with the `in` and `not in` operators, which return a [boolean value](https://docs.constellate.org/key-terms/#boolean-value): **True** or **False**."
      ],
      "metadata": {
        "id": "ffaXfZ9P64FO"
      }
    },
    {
      "cell_type": "code",
      "source": [
        "# Checking whether an item is in a list using the `in` operator\n",
        "# Create a list called `tropical_fruit`\n",
        "tropical_fruit = ['Avocado',\n",
        "  'Banana',\n",
        "  'Star Fruit',\n",
        "  'Chikoo',\n",
        "  'Coconut',\n",
        "  'Dragon Fruit',\n",
        "  'Durian',\n",
        "  'Fig',\n",
        "  'Grapefruit',\n",
        "  'Grapes',\n",
        "  'Guava',\n",
        "  'Jackfruit',\n",
        "  'Kiwi',\n",
        "  'Lemon',\n",
        "  'Longan',\n",
        "  'Lychee',\n",
        "  'Mango',\n",
        "  'Mangosteen',\n",
        "  'Muskmelon',\n",
        "  'Orange',\n",
        "  'Papaya',\n",
        "  'Passion Fruit',\n",
        "  'Persimmon',\n",
        "  'Pineapple',\n",
        "  'Pomegranate',\n",
        "  'Rambutan',\n",
        "  'Salak',\n",
        "  'Tamarind',\n",
        "  'Watermelon']\n"
      ],
      "metadata": {
        "id": "bQf_K9rU7-0b"
      },
      "execution_count": null,
      "outputs": []
    },
    {
      "cell_type": "code",
      "source": [
        "# Check whether a fruit is in tropical_fruit\n",
        "'Apple' in tropical_fruit"
      ],
      "metadata": {
        "id": "lEJbFGBE8j54"
      },
      "execution_count": null,
      "outputs": []
    },
    {
      "cell_type": "markdown",
      "source": [
        "### Activity Time"
      ],
      "metadata": {
        "id": "2KSkhvNCEa6e"
      }
    },
    {
      "cell_type": "code",
      "source": [
        "# Use the 'in' operator to check if Watermelon is in tropical_fruit\n",
        "\n"
      ],
      "metadata": {
        "id": "b-_Tlb9s8rxB"
      },
      "execution_count": null,
      "outputs": []
    },
    {
      "cell_type": "code",
      "source": [
        "# Use the 'not in' operator to check whether an Orange is not included in our list\n",
        "\n"
      ],
      "metadata": {
        "id": "THj1pctCEocs"
      },
      "execution_count": null,
      "outputs": []
    },
    {
      "cell_type": "markdown",
      "source": [
        "Now we know how to change an item in a [list](https://docs.constellate.org/key-terms/#list). And can use the `in` and `not in` operator to determine if an item is in the [list](https://docs.constellate.org/key-terms/#list). But if we don't know the [index number](https://docs.constellate.org/key-terms/#index-number) of the item, we won't know which [index number](https://docs.constellate.org/key-terms/#index-number) to change. We need a way to pass both the name of the [list](https://docs.constellate.org/key-terms/#list) and the name of the item simultaneously to a [function](https://docs.constellate.org/key-terms/#function). To do that, we'll use a special kind of [function](https://docs.constellate.org/key-terms/#function) called a [method](https://docs.constellate.org/key-terms/#method)."
      ],
      "metadata": {
        "id": "wOq71aeV-4kE"
      }
    },
    {
      "cell_type": "markdown",
      "source": [
        "## List Methods\n",
        "\n",
        "A [method](https://docs.constellate.org/key-terms/#method) is a kind of [function](https://docs.constellate.org/key-terms/#function). This means that they're a reusable piece of code that can be called when needed. [Methods](https://docs.constellate.org/key-terms/#method), however, act on objects (like [lists](https://docs.constellate.org/key-terms/#list)) so they have a slightly different written form. Below are four useful [methods](https://docs.constellate.org/key-terms/#method) for working with [lists](https://docs.constellate.org/key-terms/#list):\n",
        "\n",
        "|Method Name | Purpose | Form |\n",
        "|---|---|---|\n",
        "|index()| search for an item in a list and return the index number | list_name.index(item_name)|\n",
        "|append()| add an item to the end of a list | list_name.append(item_name)|\n",
        "|remove()| remove an item from a list based on value | list_name.remove(item_name)|\n",
        "|sort()| sort the order of a list | list_name.sort()|\n"
      ],
      "metadata": {
        "id": "BaOO0FwM_Bhm"
      }
    },
    {
      "cell_type": "markdown",
      "source": [
        "### The `index()` Method\n",
        "\n",
        "The `index()` [method](https://docs.constellate.org/key-terms/#method) checks to see if a value is in a [list](https://docs.constellate.org/key-terms/#list). If the value is found, it returns the [index number](https://docs.constellate.org/key-terms/#index-number) for the first item with that value. (Keep in mind, there could be multiple items with a single value in a [list](https://docs.constellate.org/key-terms/#list)). If the value is not found, the `index()` [method](https://docs.constellate.org/key-terms/#method) returns a `ValueError`"
      ],
      "metadata": {
        "id": "WA34ymFGAiTp"
      }
    },
    {
      "cell_type": "code",
      "source": [
        "# Let's use the index method to find the index number of an item on our list\n"
      ],
      "metadata": {
        "id": "KdoKYujb_S-w"
      },
      "execution_count": null,
      "outputs": []
    },
    {
      "cell_type": "markdown",
      "source": [
        "### The `append()` Method\n",
        "\n",
        "The `append()` [method](https://docs.constellate.org/key-terms/#method) adds a value to the end of a [list](https://docs.constellate.org/key-terms/#list)."
      ],
      "metadata": {
        "id": "37joHfKz_y6b"
      }
    },
    {
      "cell_type": "code",
      "source": [
        "# Let's add 'Breadfruit' to our list using the append() method\n"
      ],
      "metadata": {
        "id": "6hWzHmuxFXyW"
      },
      "execution_count": null,
      "outputs": []
    },
    {
      "cell_type": "markdown",
      "source": [
        "### The `remove()` Method\n",
        "\n",
        "The `remove()` [method](https://docs.constellate.org/key-terms/#method) removes the first item from the [list](https://docs.constellate.org/key-terms/#list) that has a matching value."
      ],
      "metadata": {
        "id": "fhL1oa7XGmlu"
      }
    },
    {
      "cell_type": "code",
      "source": [
        "# Let's remove Banana from our tropical_fruit list using the remove method\n"
      ],
      "metadata": {
        "id": "xI1X3iXHGq10"
      },
      "execution_count": null,
      "outputs": []
    },
    {
      "cell_type": "markdown",
      "source": [
        "### The `sort()` Method\n",
        "\n",
        "The `sort()` [method](https://docs.constellate.org/key-terms/#method) sorts a [list](https://docs.constellate.org/key-terms/#list) in alphabetical order, where strings with capital letters are sorted A-Z, then strings with lowercase letters are sorted A-Z.\n",
        "\n",
        "The ``sort()`` method can also take the argument ``reverse=True``, which will sort your list in reverse order!"
      ],
      "metadata": {
        "id": "N34ZYw6IG5JD"
      }
    },
    {
      "cell_type": "code",
      "source": [
        "# Let's sort our tropical fruit list in reverse alphabetical order\n"
      ],
      "metadata": {
        "id": "TTI4EdrhO3eR"
      },
      "execution_count": null,
      "outputs": []
    },
    {
      "cell_type": "markdown",
      "source": [
        "### Activity Time\n",
        "\n",
        "Let's combine some of the methods above to clean up and sort our list!"
      ],
      "metadata": {
        "id": "GZfp4BZlGvim"
      }
    },
    {
      "cell_type": "code",
      "source": [
        "# Add two fruits to our tropical fruit list\n",
        "\n",
        "\n"
      ],
      "metadata": {
        "id": "kuvZSJitFQpC"
      },
      "execution_count": null,
      "outputs": []
    },
    {
      "cell_type": "code",
      "source": [
        "# Remove one fruit using remove()\n",
        "\n",
        "\n"
      ],
      "metadata": {
        "id": "CINljFNGhnq4"
      },
      "execution_count": null,
      "outputs": []
    },
    {
      "cell_type": "code",
      "source": [
        "# Sort your new list in alphabetical order\n",
        "\n",
        "\n"
      ],
      "metadata": {
        "id": "LOV-zT_rhoVD"
      },
      "execution_count": null,
      "outputs": []
    },
    {
      "cell_type": "code",
      "source": [
        "# Print the list to view your updates!\n",
        "\n",
        "\n"
      ],
      "metadata": {
        "id": "A39TYiTXhsSD"
      },
      "execution_count": null,
      "outputs": []
    },
    {
      "cell_type": "markdown",
      "source": [
        "### Did you know?\n",
        "\n",
        "If you use the ``tab`` button in Jupyter while typing, a drop down list will pop up with suggestions to autocomplete your code! This is a great way to, for example, see a list of all available methods you can use when working with your list.\n",
        "\n"
      ],
      "metadata": {
        "id": "l-j1pm7slVTO"
      }
    },
    {
      "cell_type": "code",
      "source": [
        "# Let's try it out !\n",
        "\n"
      ],
      "metadata": {
        "id": "EFm_ceismDd4"
      },
      "execution_count": null,
      "outputs": []
    },
    {
      "cell_type": "markdown",
      "source": [
        "![image.png](data:image/png;base64,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)"
      ],
      "metadata": {
        "id": "y8_rEV8xPLnQ"
      }
    },
    {
      "cell_type": "markdown",
      "source": [
        "# **Flow Control**\n",
        "\n",
        "Now that you have some python under your belt, you might be wondering how to put it together to perform a specific task. Consider the following example. Let's say you have asked a child to help you clean a room in your home. As they are a child, you have to give them very clear instructions about what you want them to do. For example, you might tell them to find each piece of paper in the room, pick it up, and put it in the recycling bin.\n",
        "\n",
        "Think of a computer like this child. They act very similar. You would write a series of instructions using the syntax that we have discussed so far. The computer (or child) would implement these instructions **in order** to complete the task. The sequence of steps has a clear, linear flow. So far so good. \n",
        "\n",
        "But what if something unexpected comes up? What if the child finds an important paper that is actually an unpaid credit card bill that is due today!! As the instructions were to put all papers in the recycling bin, the child would just do that, not realizing that this is a special case!\n",
        "\n",
        "You will find that computers are the same! You have to test out instructions and identify when it doesn't work, or anticipate special cases that come up and deal with them appropriately. Maybe this child has helped you before, and you remember last time fishing out a bill from the recycling bin! This time, you provide more specific instructions. Pick up any papers. If the paper has this credit card logo on it, give it to me, otherwise put it in the recycling bin. Problem solved! \n",
        "\n",
        "This is the same with computers. You will start to write some code to ask the program to perform a sequence of steps. But sometimes you will have to test or anticipate special cases that might arise, and then write special pieces of code ([flow control statements](https://docs.constellate.org/key-terms/#flow-control-statement)) to handle them, or put the steps in the correct order. This is called flow control. The \"flow\" of the program, the \"flow\" of the steps or tasks, might need to be altered or even repeated depending on the situation.\n",
        " "
      ],
      "metadata": {
        "id": "nHUKogp_Kdz4"
      }
    },
    {
      "cell_type": "markdown",
      "metadata": {
        "id": "4dJTZ2qJOifQ"
      },
      "source": [
        "## Flow Control Statements\n",
        "\n",
        "If a program is a set of steps for accomplishing a task, then [flow control statements](https://docs.constellate.org/key-terms/#flow-control-statement) help the program decide the next action.\n",
        "\n",
        "[Flow control statements](https://docs.constellate.org/key-terms/#flow-control-statement) work like a flowchart. Let's look at another example. Say your goal is to hang out and relax with friends. There are a number of steps you might take, depending on whether you've finished your homework already, whether your friends are available, or if you feel like making some new friends.\n",
        "\n",
        "![Flowchart to hangout with friends](https://ithaka-labs.s3.amazonaws.com/static-files/images/tdm/tdmdocs/friends_flowchart.png)\n",
        "\n",
        "Each diamond in our flowchart represents a decision that has to be made about the best step to take next. This is the essence of [flow control statements](https://docs.constellate.org/key-terms/#flow-control-statement). They help a program decide what the next step should be given the current circumstances."
      ]
    },
    {
      "cell_type": "markdown",
      "metadata": {
        "id": "iWhgp-BKQftv"
      },
      "source": [
        "## Boolean Values\n",
        "\n",
        "One way we to create [flow control statements](https://docs.constellate.org/key-terms/#flow-control-statement) is with [boolean values](https://docs.constellate.org/key-terms/#boolean-value).\n",
        "\n",
        "[Boolean values](https://docs.constellate.org/key-terms/#boolean-value) are a  data type that only has two possible values: **True** or **False**. We've seen [boolean values](https://docs.constellate.org/key-terms/#boolean-value) before when we were checking if an item was in our tropical fruit list. In our flowchart example above, we could consider a \"Yes\" to be \"True\" and a \"No\" to be \"False.\" \n",
        "\n",
        "When we get the data we need to answer each question, we could then store that answer in a variable, like:\n",
        "\n",
        "* ```are_friends_available = False```\n",
        "* ```make_new_friends = True```\n",
        "* ```new_friend_available = True```\n",
        "\n",
        "This would allow us to determine which action to take next. \n",
        "\n",
        "Note that when we assign [boolean values](https://docs.constellate.org/key-terms/#boolean-value) to a [variable](https://docs.constellate.org/key-terms/#variable), and generally when we are using [boolean values](https://docs.constellate.org/key-terms/#boolean-value), the first letter must be capitalized for Python to recognize it:"
      ]
    },
    {
      "cell_type": "code",
      "execution_count": null,
      "metadata": {
        "id": "CmOr3GtNR0_A"
      },
      "outputs": [],
      "source": [
        "# Note that the first letter of a boolean value must always be capitalized in Python\n",
        "# Let's try running this and see what happens\n",
        "are_friends_available = false\n",
        "print(are_friends_available)"
      ]
    },
    {
      "cell_type": "markdown",
      "metadata": {
        "id": "_S_sNOP6iLbx"
      },
      "source": [
        "## Comparison Operators\n",
        "Now that we have a way to store [integers](https://docs.constellate.org/key-terms/#integer), [floats](https://docs.constellate.org/key-terms/#float), [strings](https://docs.constellate.org/key-terms/#string), and [boolean values](https://docs.constellate.org/key-terms/#boolean-value) in [variables](https://docs.constellate.org/key-terms/#variable), we can use a [comparison operator](https://docs.constellate.org/key-terms/#comparison-operator) to help make decisions based on those values. We used a [comparison operator](https://docs.constellate.org/key-terms/#comparison-operator) earlier to check if two [expressions](https://docs.constellate.org/key-terms/#expression) were equal to each other. "
      ]
    },
    {
      "cell_type": "code",
      "execution_count": null,
      "metadata": {
        "id": "ZX5fL4IyiSWi"
      },
      "outputs": [],
      "source": [
        "# Compare two values with the comparison operator ==\n",
        "67 == 67"
      ]
    },
    {
      "cell_type": "code",
      "execution_count": null,
      "metadata": {
        "id": "baRjcaNSiWox"
      },
      "outputs": [],
      "source": [
        "# Note that a comparison operator uses ==\n",
        "# Do not confuse that with the variable assignment statement which uses a single =\n",
        "67 = 67"
      ]
    },
    {
      "cell_type": "markdown",
      "source": [
        "We used the equal comparison operator above when talking about data types, to evaluate if two values were the same. But we can also use other comparison operators in Python to compare two values and help us with [flow control statements](https://docs.constellate.org/key-terms/#flow-control-statement): \n",
        "\n",
        "| Operator| Operation| Example | Evaluation |\n",
        "|---|----|---|---|\n",
        "|==| Equal | 3 == 3 | True |\n",
        "|!=| Not equal | 41 != 41 | False |\n",
        "|>| Greater than | 30 > 20 | True|\n",
        "|<| Less than | 50 < 100 | True |\n",
        "|>=| Greater than or equal to | 18 >= 16| True|\n",
        "|<=| Less than or equal to | 18 <= 16 | False |"
      ],
      "metadata": {
        "id": "Dj152VetGIkL"
      }
    },
    {
      "cell_type": "markdown",
      "source": [
        "### Activity Break"
      ],
      "metadata": {
        "id": "cXvqnukEijRd"
      }
    },
    {
      "cell_type": "code",
      "execution_count": null,
      "metadata": {
        "id": "wJ9Ja58vii4x"
      },
      "outputs": [],
      "source": [
        "# Use the \"less than\" operator to make a comparison\n"
      ]
    },
    {
      "cell_type": "code",
      "execution_count": null,
      "metadata": {
        "id": "XB23AN13ie-x"
      },
      "outputs": [],
      "source": [
        "# Use the \"Not equal to\" operator to make a comparison\n"
      ]
    },
    {
      "cell_type": "code",
      "execution_count": null,
      "metadata": {
        "id": "NrFlfwbxi-2R"
      },
      "outputs": [],
      "source": [
        "# You can use a comparison operator on a variable. Try it!\n",
        "# Create a variable number_of_pies and assign the value of zero\n",
        "\n",
        "# Check whether number_of_pies is greater than or equal to 1\n"
      ]
    },
    {
      "cell_type": "markdown",
      "metadata": {
        "id": "-s4-Ui2rC9gG"
      },
      "source": [
        "## Writing a Flow Control Statement\n",
        "\n",
        "Now that we have all of these building block to evaluate conditions, we can start writing [flow control statements](https://docs.constellate.org/key-terms/#flow-control-statement) in [Python](https://docs.constellate.org/key-terms/#python). The general form of a [flow control statement](https://docs.constellate.org/key-terms/#flow-control-statement) is a condition followed by an action clause (basically the condition and then the code you would run if the condition was true):\n",
        "\n",
        "`If this condition:`<br />\n",
        "&nbsp; &nbsp; &nbsp; &nbsp;`perform this action`\n",
        "\n",
        "Let's return to part of our flowchart for hanging out with friends.\n",
        "\n",
        "![Flowchart showing if homework is yes then do assignment](https://ithaka-labs.s3.amazonaws.com/static-files/images/tdm/tdmdocs/do_homework_chart.png)\n",
        "\n",
        "We can imagine a [flow control statement](https://docs.constellate.org/key-terms/#flow-control-statement) that would look something like:\n",
        "\n",
        "`if have_homework == True:`<br />\n",
        "&nbsp; &nbsp; &nbsp; &nbsp; `complete assignment`\n",
        "    \n",
        "The condition is given followed by a colon (:). The action clause then follows on the next line, indented into a [code block](https://docs.constellate.org/key-terms/#code-block).\n",
        "\n",
        "* If the condition is fulfilled (evaluates to **True**), the action clause in the block of code is executed. \n",
        "* If the condition is not fulfilled (evaluates to **False**), the action clause in the block of code is **skipped over**."
      ]
    },
    {
      "cell_type": "markdown",
      "source": [
        "### Whitespace and Code Blocks\n",
        "\n",
        "Before we go too far into discussing flow control, we need to take a short detour to talk about whitespace and code blocks. \n",
        "\n",
        "Whitespace within lines doesn't matter, but adding spaces can help make your code more readable."
      ],
      "metadata": {
        "id": "rX0lBmCzHQtA"
      }
    },
    {
      "cell_type": "code",
      "source": [
        "# Let's try a simple comparison expression in this cell, once with and once without adding space between the numbers and operator. Does anything change?\n",
        "4<8"
      ],
      "metadata": {
        "id": "9vcovQzFOyqJ"
      },
      "execution_count": null,
      "outputs": []
    },
    {
      "cell_type": "code",
      "source": [
        "4 < 8"
      ],
      "metadata": {
        "id": "tv29N40Zj1p5"
      },
      "execution_count": null,
      "outputs": []
    },
    {
      "cell_type": "markdown",
      "source": [
        "But [code blocks](https://docs.constellate.org/key-terms/#code-block) are a special case! A [code block](https://docs.constellate.org/key-terms/#code-block) is a group of statements meant to be run together. Unlike within lines, whitepace is extremely important within blocks of code! A [code block](https://docs.constellate.org/key-terms/#code-block) always begins with an indentation. "
      ],
      "metadata": {
        "id": "YzUsiEJhacrd"
      }
    },
    {
      "cell_type": "code",
      "source": [
        "# Let's try running this cell, which prints True if the statement on the first line is true\n",
        "if 45 > 22:\n",
        "  print(\"45 is greater than 22\")"
      ],
      "metadata": {
        "id": "okl6yDmdPLy_"
      },
      "execution_count": null,
      "outputs": []
    },
    {
      "cell_type": "code",
      "source": [
        "# now let's try this code block again, without adding the whitespace on the second line. What happens when you run this?\n",
        "if 45 > 22:\n",
        "print(\"45 is greater than 22\")"
      ],
      "metadata": {
        "id": "tvpDfkV4aME8"
      },
      "execution_count": null,
      "outputs": []
    },
    {
      "cell_type": "markdown",
      "metadata": {
        "id": "V5XKymr0C9gG"
      },
      "source": [
        "The colon is also extremely important, as it signals to Python to expect that a [code block](https://docs.constellate.org/key-terms/#code-block) is coming up next. The colon and the indentation work together in the [flow control statement](https://docs.constellate.org/key-terms/#flow-control-statement). \n",
        "\n",
        "A [code block](https://docs.constellate.org/key-terms/#code-block) can be a single line or many lines long. Blocks can contain other blocks forming a hierarchal structure. In such a case, the second block is indented an additional degree. Any given block ends when the number of indentations in the current line is less than the number that started the block (i.e., your next line of code moves back to a previous indentation level).\n",
        "\n",
        "![Visualization of code block indentations](https://ithaka-labs.s3.amazonaws.com/static-files/images/tdm/tdmdocs/code_block_indentation.png)\n",
        "\n",
        "Since the level of indentation describes which code block will be executed, improper indentations will make your code crash, as you saw before. When using indentations to create code blocks, look carefully to make sure you are working in the code block you intend. Each indentation for a code block is created by pressing the tab key."
      ]
    },
    {
      "cell_type": "markdown",
      "metadata": {
        "id": "c1i-JdglC9gH"
      },
      "source": [
        "## Types of Flow Control Statements\n",
        "\n",
        "The code examples above use `if` statements, but there are other kinds of [flow control statements](https://docs.constellate.org/key-terms/#flow-control-statement) available in [Python](https://docs.constellate.org/key-terms/#python).\n",
        "\n",
        "|Statement|Means|Condition for execution|\n",
        "|---|---|---|\n",
        "|`if`|if|if the condition is fulfilled|\n",
        "|`elif`|else if|if no previous conditions were met *and* this condition is met|\n",
        "|`else`|else|if no condition is met (no condition is supplied for an `else` statement)|\n",
        "|`while`|while|while condition is true|\n",
        "|`for`|for|execute in a loop for this many times|\n",
        "|`try`|try|try this and run the `except` code if an error occurs|\n",
        "\n",
        "Let's take a look at some of these [flow control statement](https://docs.constellate.org/key-terms/#flow-control-statement) types."
      ]
    },
    {
      "cell_type": "markdown",
      "metadata": {
        "id": "N2FmfLpXC9gH"
      },
      "source": [
        "### `if` Statements\n",
        "\n",
        "An `if` statement begins with an [expression](https://docs.constellate.org/key-terms/#expression) that evaluates to **True** or **False**.\n",
        "\n",
        "* if **True**, then perform this action\n",
        "* if **False**, skip over this action\n",
        "\n",
        "In practice, the form looks like this:\n",
        "\n",
        "`if this is True:` <br />\n",
        "&nbsp; &nbsp; &nbsp; &nbsp; `perform this action`\n",
        "\n",
        "Let's put an `if` statement into practice with a very simple program that asks the user how their day is going and then responds. We can visualize the flow of the program in a flowchart.\n",
        "\n",
        "![Flowchart of a good day program](https://ithaka-labs.s3.amazonaws.com/static-files/images/tdm/tdmdocs/good_day_flowchart.png)\n",
        "\n",
        "Our program will use a single `if` statement. If the user types \"Yes\", then our program will send a response. \n",
        "\n",
        "Note: This program is using the Python function called `input()` that prompts the user for some information, where the prompt is put in parentheses. The function assigns the user's response to a variable. A very handy function to learn!"
      ]
    },
    {
      "cell_type": "code",
      "execution_count": null,
      "metadata": {
        "id": "bILVKga0C9gH"
      },
      "outputs": [],
      "source": [
        "# A program that responds to a user having a good day\n",
        "having_good_day = input('Are you having a good day? (Yes or No) ') # Define a variable having_good_day to hold the user's input in a string\n",
        "\n",
        "if having_good_day == 'Yes':  # If the user has input the string 'Yes'\n",
        "    print('Glad to hear your day is going well!') # Print: Glad to hear your day is going well!"
      ]
    },
    {
      "cell_type": "markdown",
      "metadata": {
        "id": "LEFznnARC9gH"
      },
      "source": [
        "Our program works fairly well so long as the user inputs 'Yes'. If they type 'No' or something else, it simply ends. If we want to have our program still respond no matter what we type, we can use an `else` statement."
      ]
    },
    {
      "cell_type": "markdown",
      "metadata": {
        "id": "ehrHCbVLC9gH"
      },
      "source": [
        "### `else` Statements\n",
        "\n",
        "An `else` statement *does not require a condition* to evaluate to **True** or **False**. It simply executes when none of the previous conditions are met. So you would always precede an `else` statement with an `if` statement. An `else` statement nevers sits by itself. The form looks like this:\n",
        "\n",
        "`else:` <br />\n",
        "&nbsp; &nbsp; &nbsp; &nbsp; `perform this action`\n",
        "\n",
        "Our updated flowchart now contains a second branch for our program.\n",
        "\n",
        "![The program flowchart with two branches](https://ithaka-labs.s3.amazonaws.com/static-files/images/tdm/tdmdocs/good_day_flowchart2.png)\n",
        "    \n"
      ]
    },
    {
      "cell_type": "markdown",
      "source": [
        "### Mini Activity Break"
      ],
      "metadata": {
        "id": "p75eRckBknQ6"
      }
    },
    {
      "cell_type": "code",
      "execution_count": null,
      "metadata": {
        "id": "4RKw7eIoC9gH"
      },
      "outputs": [],
      "source": [
        "# A program that responds to whether the user is having a good or bad day\n",
        "having_good_day = input('Are you having a good day? (Yes or No) ') # Define a variable having_good_day to hold the user's input\n",
        "\n",
        "if having_good_day == 'Yes': # If the user has input the string 'Yes'\n",
        "    print('Glad to hear your day is going well!') # Print: Glad to hear your day is going well!\n",
        "    \n",
        "# Write an else statement here to print \"I wish your day was going better.\"\n"
      ]
    },
    {
      "cell_type": "markdown",
      "metadata": {
        "id": "0xxbRKYGC9gH"
      },
      "source": [
        "Our new program is more robust. The new `else` statement still gives the user a response if they do not respond \"Yes\". But what if we wanted to add an option for when a user says \"No\" specifically? Or when a user inputs something besides \"Yes\" or \"No\"? Then we could use a series of `elif` statements."
      ]
    },
    {
      "cell_type": "markdown",
      "metadata": {
        "id": "zo2yspUjC9gH"
      },
      "source": [
        "### `elif` Statements\n",
        "\n",
        "An `elif` statement, short for \"else if,\" allows us to create a list of possible conditions where one (and only one) action will be executed. `elif` statements come after an initial `if` statement and before an `else` statement:\n",
        "\n",
        "`if condition A is True:` <br />\n",
        "&nbsp; &nbsp; &nbsp; &nbsp; `perform action A` <br />\n",
        "`elif condition B is True:` <br />\n",
        "&nbsp; &nbsp; &nbsp; &nbsp; `perform action B` <br />\n",
        "`elif condition C is True:` <br />\n",
        "&nbsp; &nbsp; &nbsp; &nbsp; `perform action C` <br />\n",
        "`elif condition D is True:` <br />\n",
        "&nbsp; &nbsp; &nbsp; &nbsp; `perform action D` <br />\n",
        "`else:` <br />\n",
        "&nbsp; &nbsp; &nbsp; &nbsp;`perform action E`\n",
        "\n",
        "When an `elif` condition is met, all other `elif` statements are skipped over. This means that one (and only one) [flow control statement](https://docs.constellate.org/key-terms/#flow-control-statement) is executed when using `elif` statements. \n",
        "\n",
        "For example, we could add an `elif` statement to our program so it responds to both \"Yes\" and \"No\" with unique answers. We could then add an `else` statement that responds to any user input that is not \"Yes\" or \"No\".\n",
        "\n",
        "![Flowchart showing three branches](https://ithaka-labs.s3.amazonaws.com/static-files/images/tdm/tdmdocs/good_day_flowchart3.png)"
      ]
    },
    {
      "cell_type": "code",
      "execution_count": null,
      "metadata": {
        "id": "osBPs54lC9gH"
      },
      "outputs": [],
      "source": [
        "# A program that responds to whether the user is having a good or bad day\n",
        "having_good_day = input('Are you having a good day? (Yes or No) ') # Define a variable having_good_day to hold the user's input\n",
        "\n",
        "if having_good_day == 'Yes': # If the user has input the string 'Yes'\n",
        "    print('Glad to hear your day is going well!') # Print: Glad to hear your day is going well!\n",
        "\n",
        "# An elif statement for when the user has input the string 'No'\n",
        "elif having_good_day == 'No':\n",
        "    print('Sorry to hear that. I hope it gets better.')\n",
        "\n",
        "# An else statement that catches if the answer is not 'Yes' or 'No'\n",
        "else: # Execute this if none of the other branches executes\n",
        "    print('Sorry, I only understand \"Yes\" or \"No\"') # Note that we can use double quotations in our string because it begins and ends with single quotes"
      ]
    },
    {
      "cell_type": "markdown",
      "source": [
        "When you write flow control statements, you should always test all the options to make sure that your program is working the way you want it to!"
      ],
      "metadata": {
        "id": "ODGF3aGZpL1J"
      }
    },
    {
      "cell_type": "markdown",
      "source": [
        "### Activity Break"
      ],
      "metadata": {
        "id": "EnxoQxm0kuuC"
      }
    },
    {
      "cell_type": "markdown",
      "source": [
        "Now it is your turn to try writing `if`, `elif`, and `else` statements from scratch, following the instructions below (or come up with your own example if you'd like!)."
      ],
      "metadata": {
        "id": "Mpn-s9D2YA4J"
      }
    },
    {
      "cell_type": "code",
      "source": [
        "# Write some code to ask a person if they prefer Apples or Oranges.\n",
        "# If the user types \"Apples\" print \"An apple a day keeps the doctor away!\"\n",
        "# Otherwise if the user types \"Oranges\" print \"Delicious!\"\n",
        "# If the user types something else print \"Sorry, I do not understand.\""
      ],
      "metadata": {
        "id": "esY_IZgZXG4M"
      },
      "execution_count": null,
      "outputs": []
    },
    {
      "cell_type": "markdown",
      "metadata": {
        "id": "dqV26PbCC9gH"
      },
      "source": [
        "### `for` Loop Statements\n",
        "\n",
        "So far, we have used [flow control statements](https://docs.constellate.org/key-terms/#flow-control-statement) as decision-making branches to decide what action should be taken next. Sometimes, however, we want a particular action to loop (or repeat). We can accomplish this with `for` loop statements.\n"
      ]
    },
    {
      "cell_type": "markdown",
      "source": [
        "One way to use a `for` loop is to loop through items in a [list](https://docs.constellate.org/key-terms/#list), working with each item in turn to perform a task.\n",
        "\n",
        "A `for` loop takes the form:\n",
        "\n",
        "`for item in list:`<br />\n",
        "&nbsp; &nbsp; &nbsp; &nbsp;`take this action`\n",
        "\n",
        "where item is a variable that holds the current item in the list. After the action is taken, the item variable automatically updates to hold the next item in the list, and the action is taken again, and so forth, until all items in the list have been considered."
      ],
      "metadata": {
        "id": "Q467K0qiZAyM"
      }
    },
    {
      "cell_type": "code",
      "source": [
        "# This `for` loop goes through the tropical fruit list we saw earlier and prints out every item, adding an exclamation point after its name\n",
        "for fruit in tropical_fruit:\n",
        "    print(fruit + \"!\")"
      ],
      "metadata": {
        "id": "qO6YyQTqZR2m"
      },
      "execution_count": null,
      "outputs": []
    },
    {
      "cell_type": "markdown",
      "source": [
        "We can also keep track of the iterations (and use that to figure out the index number of an item in a list) by saving them in a count variable. \n",
        "\n",
        "Note: For this next example, we will need to convert the count variable to a string in order to use it in a print statement (i.e., `str(count)`). You saw this earlier in the workshop when we talked about how you can't use the `+` operator to combine a number and a string, as Python doesn't know which way you want to combine them!"
      ],
      "metadata": {
        "id": "iOYjUMGXzIGx"
      }
    },
    {
      "cell_type": "code",
      "source": [
        "# This `for` loop goes through the tropical fruit list and prints out a sentence with the index number of each item in the list\n",
        "count = 0 # we need a count variable to keep track of each index number\n",
        "for fruit in tropical_fruit:\n",
        "    print(\"The index number is \" + str(count) + \" for \" + fruit + \" in the list!\") # Here we are concatenating a number of strings\n",
        "    count = count + 1 # increase the count for each item in the list"
      ],
      "metadata": {
        "id": "ShWwFnQdzA6s"
      },
      "execution_count": null,
      "outputs": []
    },
    {
      "cell_type": "markdown",
      "source": [
        "### Activity Break"
      ],
      "metadata": {
        "id": "58yeUDiFbDb-"
      }
    },
    {
      "cell_type": "markdown",
      "source": [
        "So now it is your turn! Write a `for` loop that loops through the tropical fruit list and prints out each fruit name in a numbered list:\n",
        "1. Avocado\n",
        "2. Banana\n",
        "3. And so on.\n"
      ],
      "metadata": {
        "id": "qUr2USVMlfbU"
      }
    },
    {
      "cell_type": "code",
      "source": [
        "# My fruity `for` loop"
      ],
      "metadata": {
        "id": "WcUReekqcAbg"
      },
      "execution_count": null,
      "outputs": []
    },
    {
      "cell_type": "markdown",
      "metadata": {
        "id": "l4uVdiAmUi4U"
      },
      "source": [
        "## Functions\n",
        "\n",
        "We talked before about how [functions](https://docs.constellate.org/key-terms/#function) are mini-programs that we can use to accomplish a particular task. They also make our code more **modular**, as we can use various [functions](https://docs.constellate.org/key-terms/#function) in our programs, as needed.\n",
        "\n",
        "So far, we have seen some [Python](https://docs.constellate.org/key-terms/#python) [functions](https://docs.constellate.org/key-terms/#function) already in action, such as `print()` and `input()`. You can identify a function by the fact that it ends with a set of parentheses `()`. The pieces of information you put inside the parentheses are called [arguments](https://docs.constellate.org/key-terms/#argument) that are described as being **passed** into the function. Depending on the [function](https://docs.constellate.org/key-terms/#function) (and how you use it), a [function](https://docs.constellate.org/key-terms/#function) may accept no [arguments](https://docs.constellate.org/key-terms/#argument), a single [argument](https://docs.constellate.org/key-terms/#argument), or many [arguments](https://docs.constellate.org/key-terms/#argument). For example, when we use the `print()` [function](https://docs.constellate.org/key-terms/#function), a [string](https://docs.constellate.org/key-terms/#string) or a variable containing a [string](https://docs.constellate.org/key-terms/#string) is passed as an [argument](https://docs.constellate.org/key-terms/#argument).\n",
        "\n",
        "## Packages and Modules\n",
        "\n",
        "While [Python](https://docs.constellate.org/key-terms/#python) comes with many [functions](https://docs.constellate.org/key-terms/#function), there are thousands more that others have written. We mentioned this before at the beginning of the workshop, when we said that people have created and shared domain specific tools that can be used to expand [Python's](https://docs.constellate.org/key-terms/#python) functionality. Adding them all to [Python](https://docs.constellate.org/key-terms/#python) would create mass confusion, since many people could use the same name for [functions](https://docs.constellate.org/key-terms/#function) that do different things. So the solution is that [functions](https://docs.constellate.org/key-terms/#function) are stored in [modules](https://docs.constellate.org/key-terms/#module) that can be **imported** for use, when we need them. A [module](https://docs.constellate.org/key-terms/#module) is made up of [Python](https://docs.constellate.org/key-terms/#python) code that contains the definitions for the [functions](https://docs.constellate.org/key-terms/#function). These [modules](https://docs.constellate.org/key-terms/#module) can then be collected into even larger groups called [packages](https://docs.constellate.org/key-terms/#package) or [libraries](https://docs.constellate.org/key-terms/#library). \n",
        "\n",
        "The general form of importing a [module](https://docs.constellate.org/key-terms/#module) is:\n",
        "`import module_name`\n",
        "\n",
        "You may remember seeing code that looked like this from earlier in the workshop. When we were learning about Jupyter Notebooks, we imported the `time` [module](https://docs.constellate.org/key-terms/#module) and used the `sleep()` [function](https://docs.constellate.org/key-terms/#function) to wait 5 seconds."
      ]
    },
    {
      "cell_type": "markdown",
      "source": [
        "Generally as you learn more about programming and using [Python](https://docs.constellate.org/key-terms/#python), you will want to explore the [functions](https://docs.constellate.org/key-terms/#function), [modules](https://docs.constellate.org/key-terms/#module), [packages](https://docs.constellate.org/key-terms/#package), and [libraries](https://docs.constellate.org/key-terms/#library) available to you to help you write your programs. Try exploring lists of the [most common Python packages](https://learnpython.com/blog/most-popular-python-packages/) or search or browse [large repositories of packages](https://pypi.org/) to learn more!\n",
        "\n",
        "Why reinvent the wheel when you can borrow someone else's code that has already been written to help you accomplish your task! "
      ],
      "metadata": {
        "id": "L3uDccev8NhR"
      }
    },
    {
      "cell_type": "markdown",
      "source": [
        "Let's look at an example. In order to work with files and folders, the `os` module is helpful. First, let's import it."
      ],
      "metadata": {
        "id": "zJNsH8UmOUNl"
      }
    },
    {
      "cell_type": "code",
      "source": [
        "# To use a module, first you have to import it\n",
        "import os"
      ],
      "metadata": {
        "id": "SfqYmj3vOwsW"
      },
      "execution_count": null,
      "outputs": []
    },
    {
      "cell_type": "markdown",
      "source": [
        "Then we can use the functions that come with the `os` module to work with files and folders. When you want to use a function from a new module that you have imported, you would write the name of the module, then a period, and then the name of the function. For example, let's print out a list of all the files in a particular directory."
      ],
      "metadata": {
        "id": "Bx92Jt3rO0X4"
      }
    },
    {
      "cell_type": "code",
      "source": [
        "# Get a list of all the files in a directory\n",
        "# First we need a string variable to hold the name of the directory.\n",
        "folder = \"TorontoFieldTrip\"\n",
        "\n",
        "# Next we get a list of all the files in that directory and store it in a variable\n",
        "file_list = os.listdir(folder)\n",
        "\n",
        "# Finally we print out the variable to see the list of files\n",
        "print(file_list)"
      ],
      "metadata": {
        "id": "izQ_JFwqO7W2"
      },
      "execution_count": null,
      "outputs": []
    },
    {
      "cell_type": "markdown",
      "source": [
        "How do I learn more about a module and what functions are available? You can search for and read documentation and tutorials online. "
      ],
      "metadata": {
        "id": "N8fUtoipxKp8"
      }
    },
    {
      "cell_type": "markdown",
      "source": [
        "# Final Project\n",
        "\n",
        "Let's try applying everything we've learned to create a simple, but useful program. We want to write a program that will automate renaming files. We are going to start with a directory of files you want to rename. We are going to rename all the files to the directory name, adding a number to the end, to re-organize them. So if the directory was called TorontoFieldTrip and the files in the folder were various photos from the trip with various unhelpful names, we would rename each file TorontoFieldTrip1.jpg, TorontoFieldTrip2.jpg, etc.\n",
        "\n",
        "Here are the steps:\n",
        "1. Import in the `os` module to help you work with files\n",
        "2. Create a variable to store the folder name. In our example it would be \"TorontoFieldTrip\"\n",
        "3. Create a variable to help count the number of files in the folder and set it to one to start\n",
        "4. Ask the user if they want to rename their files in that folder\n",
        "5. If they do, create a `for` loop to go through all the files in a directory (similar to how we looped through all the fruit in the tropical fruit list)\n",
        "6. For each file, rename the file to the directory name plus the count number using the + operator. (To rename files, use the command `os.rename(source, destination)` where source is a variable that holds the old file name and path as a string, and destination is a variable that holds the new file name and path as a string).\n",
        "*Note:* Path means the path you take to find the file (i.e., where is your file; which folders do you have to go in to find it, separated by slashes). An example of a file name with a path would be \"TorontoFieldTrip/myphoto.jpg\"\n",
        "\n",
        "7. After renaming all the files, print out \"All Files Renamed!\" and print out the list of files in that directory\n",
        "8. If the user doesn't want to rename their files, just skip the `for` loop and print \"Okay, I won't touch the folder. Have a nice day!\"\n",
        "\n",
        "\n"
      ],
      "metadata": {
        "id": "Am0DKAzVVOn-"
      }
    },
    {
      "cell_type": "code",
      "source": [
        "# Final Project\n"
      ],
      "metadata": {
        "id": "RMJtQSBi_5mN"
      },
      "execution_count": null,
      "outputs": []
    },
    {
      "cell_type": "markdown",
      "source": [
        "# What's Next? How Can I Get Help and Learn More?\n",
        "\n",
        "## Python's `Help()` Function\n",
        "\n",
        "If you want help about a specific function or data type in [Python](https://docs.constellate.org/key-terms/#python), you can use [Python's](https://docs.constellate.org/key-terms/#python) `help()` function. Just put what you want help with in quotation marks. "
      ],
      "metadata": {
        "id": "-xYlKm0j-uZ2"
      }
    },
    {
      "cell_type": "code",
      "source": [
        "# Asking for help on `if` statements\n",
        "help('if')"
      ],
      "metadata": {
        "id": "4JCntuN3_EmB"
      },
      "execution_count": null,
      "outputs": []
    },
    {
      "cell_type": "markdown",
      "source": [
        "## Python Resources\n",
        "\n",
        "You can also consult these various resources for more tutorials and practice:\n",
        "\n",
        "* [Constellate Tutorials](https://constellate.org/tutorials)\n",
        "* [W3 Schools Python Tutorial](https://www.w3schools.com/python/default.asp)\n",
        "* [Geeks for Geeks Python Tutorial](https://www.geeksforgeeks.org/python-programming-language/?ref=shm)\n",
        "* [Real Python Tutorials](https://realpython.com/)\n",
        "* [Whirlwind Tour of Python by Jake VanderPlas](https://jakevdp.github.io/WhirlwindTourOfPython/)\n",
        "* [Programming in Python by Melanie Walsh](https://melaniewalsh.github.io/Intro-Cultural-Analytics/02-Python/00-Python.html) \n",
        "* [Software Carpentry Lesson on Programming with Python](https://swcarpentry.github.io/python-novice-inflammation/)\n",
        "* [UofT Coders Python Lessons](https://uoftcoders.github.io/studyGroup/lessons/)\n",
        "\n",
        "## Jupyter Notebook resources\n",
        "\n",
        "* [UofT JupyterHub Support](https://act.utoronto.ca/jupyterhub-support/)\n",
        " \n",
        "\n",
        "\n"
      ],
      "metadata": {
        "id": "CtbtzMvRm3QE"
      }
    },
    {
      "cell_type": "markdown",
      "source": [
        "## Map & Data Library Support\n",
        "\n",
        "Or you can contact us for help with [Python](https://docs.constellate.org/key-terms/#python) or general data-related questions!\n",
        "\n",
        "For those of you who don’t know, the [Map & Data Library]((https://mdl.library.utoronto.ca/)), where we work, is on St. George campus, in [Robarts Library](https://onesearch.library.utoronto.ca/library-info/ROBARTS) on the 5th floor. Along with us, we have other librarians, analysts, staff and students working there that can help you with your questions. \n",
        "\n",
        "We’re open Monday to Friday, 11am to 5pm. You can drop-in to get help finding data, using geographic information systems (GIS) and digital mapping tools, data analysis and visualization tools, text and data mining, and statistical support. You can also [contact us](https://mdl.library.utoronto.ca/about/contact-form) with your questions or use the form to ask to set up an appointment with one of our staff members.\n",
        "\n",
        "You can find out more about the Map & Data Library through our website: [mdl.library.utoronto.ca](https://mdl.library.utoronto.ca/).\n",
        "\n",
        "In particular, you might want to look at other [workshops](https://mdl.library.utoronto.ca/support/workshops-and-training) we offer, including a growing number of previous workshop recordings and self-paced workshops you can self-enroll and take at any time. \n",
        "\n",
        "If you have any questions about today's workshop or specific questions about Python, feel free to [contact us](https://mdl.library.utoronto.ca/about/contact-form)."
      ],
      "metadata": {
        "id": "i6DnqbXkq9I1"
      }
    },
    {
      "cell_type": "markdown",
      "source": [
        "## Feedback\n",
        "\n",
        "This is a new workshop, so we would love to hear your [feedback](https://forms.office.com/r/ih0jC0Jqxc) to improve future iterations! \n",
        "\n",
        "After the workshop, we will also send you the solutions to all the activities for your reference."
      ],
      "metadata": {
        "id": "H7fZOyk41347"
      }
    },
    {
      "cell_type": "markdown",
      "source": [
        "## Best of luck to you starting your Python programming adventure!"
      ],
      "metadata": {
        "id": "TdBj8mWxsVta"
      }
    },
    {
      "cell_type": "markdown",
      "source": [
        "## Photo Credits\n",
        "\n",
        "|Photo File Name|Photo Credit|\n",
        "|---|---|\n",
        "| 9850.jpg| Photo by [Senatavio](https://www.freepik.com/vectors/flat-line) on [Freepik](https://www.freepik.com/vectors/flat-line)| |mwangi-gatheca-qlKaN7eqay8-unsplash.jpg|Photo by [mwangi gatheca](https://unsplash.com/@thirdworldhippy?utm_source=unsplash&utm_medium=referral&utm_content=creditCopyText) on [Unsplash](https://unsplash.com/s/photos/toronto?utm_source=unsplash&utm_medium=referral&utm_content=creditCopyText)|\n",
        "|berkay-gumustekin-hRg1KL4-AUE-unsplash.jpg|Photo by [Berkay Gumustekin](https://unsplash.com/@berkaygumustekin?utm_source=unsplash&utm_medium=referral&utm_content=creditCopyText) on [Unsplash](https://unsplash.com/s/photos/toronto?utm_source=unsplash&utm_medium=referral&utm_content=creditCopyText)|\n",
        "|rachael-annabelle-XeYmx-qBsUk-unsplash.jpg|Photo by [Rachael Annabelle](https://unsplash.com/@knottedbrains?utm_source=unsplash&utm_medium=referral&utm_content=creditCopyText) on [Unsplash](https://unsplash.com/s/photos/toronto?utm_source=unsplash&utm_medium=referral&utm_content=creditCopyText)|\n",
        "|yulia-matvienko-PW9UT4SUibg-unsplash.jpg|Photo by [Yulia Matvienko](https://unsplash.com/@yuliamatvienko?utm_source=unsplash&utm_medium=referral&utm_content=creditCopyText) on [Unsplash](https://unsplash.com/s/photos/toronto?utm_source=unsplash&utm_medium=referral&utm_content=creditCopyText)|\n",
        "|caio-silva-l3mNDwVVT10-unsplash.jpg|Photo by [Caio Silva](https://unsplash.com/@caiohenriquesilva?utm_source=unsplash&utm_medium=referral&utm_content=creditCopyText) on [Unsplash](https://unsplash.com/s/photos/toronto?utm_source=unsplash&utm_medium=referral&utm_content=creditCopyText)|\n",
        "|ravi-patel-kwEOlr1BAUs-unsplash.jpg|Photo by [Ravi Patel](https://unsplash.com/@ravi_patel?utm_source=unsplash&utm_medium=referral&utm_content=creditCopyText) on [Unsplash](https://unsplash.com/s/photos/toronto?utm_source=unsplash&utm_medium=referral&utm_content=creditCopyText)|\n",
        "|aditya-chinchure-Nm7pTBPkGRo-unsplash.jpg|Photo by [Aditya Chinchure](https://unsplash.com/@adityachinchure?utm_source=unsplash&utm_medium=referral&utm_content=creditCopyText) on [Unsplash](https://unsplash.com/s/photos/toronto?utm_source=unsplash&utm_medium=referral&utm_content=creditCopyText)|\n",
        "|james-thomas-ogMsQ9Q0Dtw-unsplash.jpg|Photo by [James Thomas](https://unsplash.com/@thegalaxyshooter?utm_source=unsplash&utm_medium=referral&utm_content=creditCopyText) on [Unsplash](https://unsplash.com/s/photos/toronto?utm_source=unsplash&utm_medium=referral&utm_content=creditCopyText)\n",
        "\n",
        "\n"
      ],
      "metadata": {
        "id": "tTzoMyfOvMmy"
      }
    }
  ],
  "metadata": {
    "kernelspec": {
      "display_name": "Python 3",
      "language": "python",
      "name": "python3"
    },
    "language_info": {
      "codemirror_mode": {
        "name": "ipython",
        "version": 3
      },
      "file_extension": ".py",
      "mimetype": "text/x-python",
      "name": "python",
      "nbconvert_exporter": "python",
      "pygments_lexer": "ipython3",
      "version": "3.8.12"
    },
    "toc": {
      "base_numbering": 1,
      "nav_menu": {},
      "number_sections": true,
      "sideBar": true,
      "skip_h1_title": true,
      "title_cell": "Table of Contents",
      "title_sidebar": "Contents",
      "toc_cell": false,
      "toc_position": {},
      "toc_section_display": true,
      "toc_window_display": true
    },
    "toc-autonumbering": false,
    "toc-showcode": false,
    "toc-showmarkdowntxt": false,
    "toc-showtags": false,
    "colab": {
      "provenance": [],
      "collapsed_sections": []
    }
  },
  "nbformat": 4,
  "nbformat_minor": 0
}